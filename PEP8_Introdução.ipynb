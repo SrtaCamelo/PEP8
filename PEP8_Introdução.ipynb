{
  "nbformat": 4,
  "nbformat_minor": 0,
  "metadata": {
    "kernelspec": {
      "display_name": "Python 3",
      "language": "python",
      "name": "python3"
    },
    "language_info": {
      "codemirror_mode": {
        "name": "ipython",
        "version": 3
      },
      "file_extension": ".py",
      "mimetype": "text/x-python",
      "name": "python",
      "nbconvert_exporter": "python",
      "pygments_lexer": "ipython3",
      "version": "3.6.3"
    },
    "colab": {
      "name": "PEP8_Introdução",
      "provenance": [],
      "collapsed_sections": []
    }
  },
  "cells": [
    {
      "cell_type": "markdown",
      "metadata": {
        "id": "NDRtzjYN9hEk",
        "colab_type": "text"
      },
      "source": [
        "#  Escrevendo cóigos amigáveis (user-friendly) com PEP-8: convenções de nomeamento "
      ]
    },
    {
      "cell_type": "markdown",
      "metadata": {
        "id": "Q4mo1FKr9hEu",
        "colab_type": "text"
      },
      "source": [
        "## O que é PEP 8?\n",
        "\n",
        "- __PEP__:   Python Enhancement Proposal \n",
        "- __PEP 8__:  Um conjunto de guias de estilo para Python\n",
        "  - Muito usado:\n",
        "  - <https://www.python.org/dev/peps/pep-0008/>"
      ]
    },
    {
      "cell_type": "markdown",
      "metadata": {
        "id": "MFoiBoWv9hEy",
        "colab_type": "text"
      },
      "source": [
        "## Por que usar esse trec- PEP 8?\n",
        "\n",
        "- Legibilidade do código\n",
        "  - A maioria das vezes ajuda você (e outros desenvolvedores que utilizarão o código)\n",
        "\n",
        "- User-friendly code\n",
        "  - Seguir regras de nomeação é uma maneira de documentar o código.\n",
        "  -  Muito útil para usuários (que podem ser desenvolvedores também!!)\n"
      ]
    },
    {
      "cell_type": "markdown",
      "metadata": {
        "id": "gSDi4Jf_9hE2",
        "colab_type": "text"
      },
      "source": [
        "![](tango.jpg)\n",
        "\n",
        "## Regringas de nomeação mais importantes:"
      ]
    },
    {
      "cell_type": "markdown",
      "metadata": {
        "id": "-dhdfBcu9hE6",
        "colab_type": "text"
      },
      "source": [
        "### `variaveis_regulares`\n",
        "\n",
        "- Nomes de variáveis devem ser __lowercase, e quando necessário separar nomes compostos por underscores__ \"_\""
      ]
    },
    {
      "cell_type": "code",
      "metadata": {
        "id": "lK2P9HGd9hE-",
        "colab_type": "code",
        "colab": {}
      },
      "source": [
        "professor_fc = 'New House'"
      ],
      "execution_count": 0,
      "outputs": []
    },
    {
      "cell_type": "markdown",
      "metadata": {
        "id": "AFed6KYZ9hFM",
        "colab_type": "text"
      },
      "source": [
        "### `CONSTANTES`\n",
        "\n",
        "- No Python, TODAS as variáveis podem ser modificadas\n",
        "- Por tanto, não existem constantes de verdade\n",
        "- Porém, para indicar que uma váriavel deve ser tratada como constante os nomes devem estár em  __uppercase, e quando necessário separar nomes compostos por underscores__ \"_\""
      ]
    },
    {
      "cell_type": "code",
      "metadata": {
        "scrolled": true,
        "id": "bV91Iy-w9hFQ",
        "colab_type": "code",
        "colab": {}
      },
      "source": [
        "PROFESSORES_FC = [\n",
        "    'Doutor Estranho',\n",
        "    'New House',\n",
        "    'Capitã Marvel',\n",
        "    'Mistério',\n",
        "    'Visão'\n",
        "]"
      ],
      "execution_count": 0,
      "outputs": []
    },
    {
      "cell_type": "markdown",
      "metadata": {
        "id": "qeQbTHUy9hFb",
        "colab_type": "text"
      },
      "source": [
        "### `nomes_de_funcoes()`\n",
        "\n",
        "- nomes de funções e métodos de classes devem estar em  __lowercase, e quando necessário separar nomes compostos por underscores__ \"_\""
      ]
    },
    {
      "cell_type": "code",
      "metadata": {
        "id": "t8OSNJ009hFd",
        "colab_type": "code",
        "colab": {
          "base_uri": "https://localhost:8080/",
          "height": 35
        },
        "outputId": "34bd10e3-3898-4ad3-fc91-064a1e18c2ae"
      },
      "source": [
        "import random\n",
        "\n",
        "\n",
        "def random_professor_fc():\n",
        "    \n",
        "    return random.choice(PROFESSORES_FC)\n",
        "\n",
        "\n",
        "print(random_professor_fc())"
      ],
      "execution_count": 15,
      "outputs": [
        {
          "output_type": "stream",
          "text": [
            "Doutor Estranho\n"
          ],
          "name": "stdout"
        }
      ]
    },
    {
      "cell_type": "markdown",
      "metadata": {
        "id": "_8a2zCtZ9hFn",
        "colab_type": "text"
      },
      "source": [
        "### `NomesDeClasses`\n",
        "\n",
        "- Nomes de classes devem ser  __capitalizados na primeira letra de cada palavra__"
      ]
    },
    {
      "cell_type": "code",
      "metadata": {
        "id": "zHp7DrKq9hFp",
        "colab_type": "code",
        "colab": {
          "base_uri": "https://localhost:8080/",
          "height": 35
        },
        "outputId": "2f8ac386-da97-4bf3-ffcb-26142da1cd1d"
      },
      "source": [
        "class ProfessorFC:\n",
        "    \n",
        "    def __init__(self, name):\n",
        "        \n",
        "        self.name = name\n",
        "        \n",
        "    def __str__(self):\n",
        "        \n",
        "        return self.name\n",
        "    \n",
        "    \n",
        "gru = ProfessorFC(name='Gru')\n",
        "print(gru)"
      ],
      "execution_count": 16,
      "outputs": [
        {
          "output_type": "stream",
          "text": [
            "Gru\n"
          ],
          "name": "stdout"
        }
      ]
    },
    {
      "cell_type": "markdown",
      "metadata": {
        "id": "mTCNsjM49hFu",
        "colab_type": "text"
      },
      "source": [
        "### `NomesParaFuncoesFabricas()`\n",
        "\n",
        "- Funcoes Fabricas retornam objetos\n",
        "- Por tanto, para os usuários do seu código, funcoes fabrica atuam como definições de classes.\n",
        "- Em outras palavras, também são nomeadas __capitalizando a primeira letra de cada palavra__"
      ]
    },
    {
      "cell_type": "code",
      "metadata": {
        "id": "BqLKDvJx9hFv",
        "colab_type": "code",
        "colab": {
          "base_uri": "https://localhost:8080/",
          "height": 35
        },
        "outputId": "ee50a3c6-c633-4a68-f80f-d0fc4767a181"
      },
      "source": [
        "def Coringa():\n",
        "    \n",
        "    return ProfessorFC(name='Coringa')\n",
        "\n",
        "\n",
        "coringa = Coringa()\n",
        "print(coringa)"
      ],
      "execution_count": 17,
      "outputs": [
        {
          "output_type": "stream",
          "text": [
            "Coringa\n"
          ],
          "name": "stdout"
        }
      ]
    },
    {
      "cell_type": "markdown",
      "metadata": {
        "id": "ImdXGyqB9hF0",
        "colab_type": "text"
      },
      "source": [
        "### `_propriedades_nao_publicas`\n",
        "\n",
        "- Em Python, propriedades podem ser acessadas de qualquer lugar\n",
        "- Por tanto, não existem propriedades de classes provadas\n",
        "- Mas, pra indicar que uma propriedade deve ser tratada como privada os nomes devem ser __prefixados com underscore \"_\"__"
      ]
    },
    {
      "cell_type": "code",
      "metadata": {
        "id": "DnpxbH7q9hF1",
        "colab_type": "code",
        "colab": {
          "base_uri": "https://localhost:8080/",
          "height": 35
        },
        "outputId": "44a1f34a-cae8-4cba-d198-d987e64707b2"
      },
      "source": [
        "class GeorgeGomes(ProfessorFC):\n",
        "    \n",
        "    def __init__(self):\n",
        "        \n",
        "        ProfessorFC.__init__(self, name='George Gomes')\n",
        "        self._instrument = 'Acordeão'\n",
        "        self._hobbie = 'Jardinagem'\n",
        "        \n",
        "    @property\n",
        "    def instrument(self):\n",
        "        \n",
        "        return self._instrument\n",
        "    \n",
        "    \n",
        "george = GeorgeGomes()\n",
        "print(george.instrument)"
      ],
      "execution_count": 21,
      "outputs": [
        {
          "output_type": "stream",
          "text": [
            "Acordeão\n"
          ],
          "name": "stdout"
        }
      ]
    },
    {
      "cell_type": "markdown",
      "metadata": {
        "id": "QYBhJdKl9hF5",
        "colab_type": "text"
      },
      "source": [
        "### `nomes_conflitantes_`\n",
        "\n",
        "- Se um nome já foi usado, __use underscore \"_\" no final__"
      ]
    },
    {
      "cell_type": "code",
      "metadata": {
        "id": "ROxxQwst9hF6",
        "colab_type": "code",
        "colab": {}
      },
      "source": [
        "in_ = 'FC'"
      ],
      "execution_count": 0,
      "outputs": []
    },
    {
      "cell_type": "code",
      "metadata": {
        "id": "NM0R2jI5PET2",
        "colab_type": "code",
        "colab": {}
      },
      "source": [
        "if_ = 87"
      ],
      "execution_count": 0,
      "outputs": []
    },
    {
      "cell_type": "markdown",
      "metadata": {
        "id": "L5WrUtwGQK-W",
        "colab_type": "text"
      },
      "source": [
        "#### Referência do material: https://osf.io/xy8kh/"
      ]
    },
    {
      "cell_type": "code",
      "metadata": {
        "id": "dh4ylnd6QRM9",
        "colab_type": "code",
        "colab": {}
      },
      "source": [
        ""
      ],
      "execution_count": 0,
      "outputs": []
    }
  ]
}