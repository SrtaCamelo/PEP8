{
  "nbformat": 4,
  "nbformat_minor": 0,
  "metadata": {
    "colab": {
      "name": "PEP8_maonamassa.ipynb",
      "provenance": [],
      "collapsed_sections": []
    },
    "kernelspec": {
      "name": "python3",
      "display_name": "Python 3"
    }
  },
  "cells": [
    {
      "cell_type": "markdown",
      "metadata": {
        "id": "sZ427r08Qvej",
        "colab_type": "text"
      },
      "source": [
        "# Bora treinar? Conserte os códigos abaixo:"
      ]
    },
    {
      "cell_type": "code",
      "metadata": {
        "id": "Y73PeV_AQr0f",
        "colab_type": "code",
        "colab": {}
      },
      "source": [
        "pi = 3.14\n",
        "funcaocalculaCIRCULO(pi,raio)"
      ],
      "execution_count": 0,
      "outputs": []
    },
    {
      "cell_type": "code",
      "metadata": {
        "id": "YZHIS2plRIOp",
        "colab_type": "code",
        "colab": {}
      },
      "source": [
        "def funcaoquePassaVoceEmTodasAscadeiras(voce,cadeiras):\n",
        "  voce.siga.logar()\n",
        "  voce.siga.por10(cadeiras)\n",
        "  voce.siga.tirarFaltas(cadeiras)"
      ],
      "execution_count": 0,
      "outputs": []
    },
    {
      "cell_type": "code",
      "metadata": {
        "id": "mYIJkDXARffb",
        "colab_type": "code",
        "colab": {}
      },
      "source": [
        "class RafaelFerreira(ProfessorFC):\n",
        "    \n",
        "    def __init__(self):\n",
        "        \n",
        "        ProfessorFC.__init__(self, name='Rafael Ferreira')\n",
        "        self.hobbie = 'Assistir Filmes'\n",
        "        \n",
        "    @property\n",
        "    def hobbie(self):\n",
        "        \n",
        "        return self.hobbie\n",
        "    \n",
        "    \n",
        "rafael = RafaelFerreira()\n",
        "print(rafael.hobbie)"
      ],
      "execution_count": 0,
      "outputs": []
    },
    {
      "cell_type": "code",
      "metadata": {
        "id": "Yhm5NnCtSEkT",
        "colab_type": "code",
        "colab": {
          "base_uri": "https://localhost:8080/",
          "height": 35
        },
        "outputId": "2d07e6d7-6ce5-49f5-fc9c-d3eea8b8c12b"
      },
      "source": [
        "break = 9\n",
        "for i in range(10):\n",
        "  if i == break:\n",
        "    print(\"Parou\")"
      ],
      "execution_count": 3,
      "outputs": [
        {
          "output_type": "stream",
          "text": [
            "Parou\n"
          ],
          "name": "stdout"
        }
      ]
    },
    {
      "cell_type": "markdown",
      "metadata": {
        "id": "ZA-PIooSSzuN",
        "colab_type": "text"
      },
      "source": [
        "## Descreva as funções e classes a seguir, corrija os comentários. Modifique o que achar necessário.\n"
      ]
    },
    {
      "cell_type": "code",
      "metadata": {
        "id": "rlAl_zyPShtN",
        "colab_type": "code",
        "colab": {}
      },
      "source": [
        "\"\"\"\n",
        "\n",
        "\"\"\"\n",
        "class vida:\n",
        "  def __init__(self):\n",
        "    self.alma = alma()\n",
        "    self.corpo = corpo_humano()\n",
        "    \n",
        "\"\"\"\n",
        "\"\"\"\n",
        "class alma:\n",
        "  def _init_(self)\n",
        "  self.indole = random([chaotic evil, chaotic neutral, chaotic good, neutral evil,\n",
        "                      neutral good, true neutral, lawful evil, lawful good, lawful neutral])\n",
        "\"\"\"\n",
        "\"\"\"\n",
        "class corpo_humano:\n",
        "  def _init__(self):\n",
        "    self.beleza = random([bonitin,uma_boa_pessoa,exotico])\n",
        "  \n",
        "  "
      ],
      "execution_count": 0,
      "outputs": []
    },
    {
      "cell_type": "code",
      "metadata": {
        "id": "-heUzz3oUwU1",
        "colab_type": "code",
        "colab": {}
      },
      "source": [
        "\n",
        "def callclassifiers(x_train, y_train, x_test, y_test):\n",
        "#---------------Training Models-------------\n",
        "    #----------------Decision Tree----------\n",
        "\n",
        "    tree = DecisionTreeClassifier(criterion = \"entropy\", random_state = 100,\n",
        "    max_depth=3, min_samples_leaf=5)\n",
        "    tree.fit(x_train, y_train)\n",
        "    \n",
        "    variavel = tree.predict(x_test)\n",
        "    variavel2 = accuracy_score(y_test, y_pred)\n",
        "    #Essa eh a lista de acurácias\n",
        "    lista.append(variavel2)\n"
      ],
      "execution_count": 0,
      "outputs": []
    },
    {
      "cell_type": "code",
      "metadata": {
        "id": "E9p5KrC3VXyj",
        "colab_type": "code",
        "colab": {}
      },
      "source": [
        "if i == 2: # Checa se o i é igual a 2\n",
        "  print(\"i é igual 2\")"
      ],
      "execution_count": 0,
      "outputs": []
    },
    {
      "cell_type": "code",
      "metadata": {
        "id": "ywGCUZ6MVpy8",
        "colab_type": "code",
        "colab": {}
      },
      "source": [
        "\"\"\"\n",
        "Parametros: data : Pandas DataFrame Essa função divide o dataSet randomizado em 10 folds, repassando o conjunto de treinamento e teste pros classificadores.\"\"\"\n",
        "#--------------K-fold method (k = 10)---------------------\n",
        "def kfold_call(data,n_start, n_final,key):\n",
        "\n",
        "    #---------Split Class column from features-------------\n",
        "\n",
        "    X = data.iloc[:,n_start:n_final]\n",
        "    Y = data[key]\n",
        "\n",
        "    kf = KFold(n_splits=10, shuffle=False)\n",
        "    for train_index, test_index in kf.split(X):\n",
        "        x_train, x_test = X.iloc[train_index], X.iloc[test_index]\n",
        "        y_train, y_test = Y.iloc[train_index], Y.iloc[test_index]\n",
        "\n",
        "        call_classifiers(x_train, y_train, x_test, y_test)\n"
      ],
      "execution_count": 0,
      "outputs": []
    }
  ]
}