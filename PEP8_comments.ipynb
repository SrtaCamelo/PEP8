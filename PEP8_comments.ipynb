{
  "nbformat": 4,
  "nbformat_minor": 0,
  "metadata": {
    "colab": {
      "name": "PEP8_comments.ipynb",
      "provenance": [],
      "collapsed_sections": []
    },
    "kernelspec": {
      "name": "python3",
      "display_name": "Python 3"
    }
  },
  "cells": [
    {
      "cell_type": "markdown",
      "metadata": {
        "id": "DBLjxLvilGFQ",
        "colab_type": "text"
      },
      "source": [
        "# Comentários no PEP-8\n",
        "Neste pequeno tutorial iremos ver algumas regras básicas sobre comentários em PEP-8."
      ]
    },
    {
      "cell_type": "markdown",
      "metadata": {
        "id": "tJGjOA4HlbRU",
        "colab_type": "text"
      },
      "source": [
        "## Regras Gerais:\n",
        "### 1- Limite de 78 caracteres por linha\n",
        "Não importa o tipo de comentário que esteja fazendo, nunca ultrapasse 78 caracteres por linha. Se o comentário for muito grande quebre em várias linhas, quantas forem necessárias!!\n",
        "\n",
        "### 2- Sempre comece com CAPSLOCK\n",
        "Cada começo de frase sempre com CAPS ativado.\n",
        "\n",
        "Exemplos:"
      ]
    },
    {
      "cell_type": "code",
      "metadata": {
        "id": "JyvcEiick-r0",
        "colab_type": "code",
        "colab": {}
      },
      "source": [
        "# Este é um comentário começado com CAPSLOCK\n",
        "# No máximo 78 caracteres, heim?"
      ],
      "execution_count": 0,
      "outputs": []
    },
    {
      "cell_type": "code",
      "metadata": {
        "id": "PYt5THdJmN8Q",
        "colab_type": "code",
        "colab": {}
      },
      "source": [
        "\"\"\"\n",
        "Este é outro comentário seguindo as duas regras,         <<< 48 caracteres\n",
        "se a frase ficar grande é só quebrar em  várias linhas\n",
        "\"\"\""
      ],
      "execution_count": 0,
      "outputs": []
    },
    {
      "cell_type": "markdown",
      "metadata": {
        "id": "s_7lAbJDm5D8",
        "colab_type": "text"
      },
      "source": [
        "#### Nota: Mesmo que o PEP-8 tenha um limite de 78 caracteres tente escrever frases que não ultrapassem o limite da sua tela na IDE/ editor de texto, caso o limite da sua tela seja inferior aos 78 caracteres."
      ]
    },
    {
      "cell_type": "markdown",
      "metadata": {
        "id": "_pIMcfTcnLyA",
        "colab_type": "text"
      },
      "source": [
        "## Regras para BLOCOS de Comentários: Os comentários com \"#\", isolados.\n",
        "\n",
        "### 1- Use apenas para seções pequenas de código\n",
        "### 2- Comece cada linha com \"#\" Seguido de UM espaço\n",
        "### 3- Separe parágrafos por linhas \"#\"\n",
        "### 4- Limite de 78 caracteres por linha, caso um comentário ultrapasse quebre a linha e insira outro \"#\""
      ]
    },
    {
      "cell_type": "code",
      "metadata": {
        "id": "4FVVESgNnKcZ",
        "colab_type": "code",
        "colab": {}
      },
      "source": [
        "# Primeiro Paragrafo.\n",
        "# Segundo Paragrafo.\n",
        "# Este paragrafo tem muitas palavras nele, por isso ta ficando grande\n",
        "# de mais para ficar em uma linha só."
      ],
      "execution_count": 0,
      "outputs": []
    },
    {
      "cell_type": "markdown",
      "metadata": {
        "id": "n-R5mrcj-VCw",
        "colab_type": "text"
      },
      "source": [
        "## COMENTÁRIOS NA LINHA: código seguido de comentário\n",
        "### 1 - Evite usá-los.\n",
        "### 2 - Comece cada linha com \"#\" Seguido de UM espaço.\n",
        "### 3 - Sempre escreva-os na mesma linha que a linha de código ao qual se refere.\n",
        "\n"
      ]
    },
    {
      "cell_type": "markdown",
      "metadata": {
        "id": "mvQPa0-5_SjX",
        "colab_type": "text"
      },
      "source": [
        "##### ERRADO"
      ]
    },
    {
      "cell_type": "code",
      "metadata": {
        "id": "DNVMiH9D-iPG",
        "colab_type": "code",
        "colab": {}
      },
      "source": [
        "# Chama a função de viagem interestelar\n",
        "ativar_dobra_espacial()"
      ],
      "execution_count": 0,
      "outputs": []
    },
    {
      "cell_type": "markdown",
      "metadata": {
        "id": "1LiUqQJu_hB4",
        "colab_type": "text"
      },
      "source": [
        "##### CERTO"
      ]
    },
    {
      "cell_type": "code",
      "metadata": {
        "id": "RH4wY9jf_KBz",
        "colab_type": "code",
        "colab": {}
      },
      "source": [
        "\n",
        "ativar_dobra_espacial() # Chama a função de viagem interestelar"
      ],
      "execution_count": 0,
      "outputs": []
    },
    {
      "cell_type": "markdown",
      "metadata": {
        "id": "Maj2uQwC_4oF",
        "colab_type": "text"
      },
      "source": [
        "### 4 - Não os use pra explicar o ÓBVIO, por faaaavooor\n",
        "\n"
      ]
    },
    {
      "cell_type": "code",
      "metadata": {
        "id": "N6bn6lsb_p4K",
        "colab_type": "code",
        "colab": {}
      },
      "source": [
        "file = open(\"arquivo.txt\",\"r\") # Abre o arquivo TXT    //AVÁ? É sério?\n",
        "user_name = \"noobmaster69\" # Nome du usuariu          // ¬¬\n",
        "user_age = 8 # Idade do usuario                       // Não façam isso "
      ],
      "execution_count": 0,
      "outputs": []
    },
    {
      "cell_type": "markdown",
      "metadata": {
        "id": "OFPkACNe_-h6",
        "colab_type": "text"
      },
      "source": [
        "### 5 - Tente usar nomes de variáveis mais significativos ao invés de comentários de linha"
      ]
    },
    {
      "cell_type": "markdown",
      "metadata": {
        "id": "BVeZnJy8Aehy",
        "colab_type": "text"
      },
      "source": [
        "#### ????? Que isso?"
      ]
    },
    {
      "cell_type": "code",
      "metadata": {
        "id": "mOO2NMPy__MB",
        "colab_type": "code",
        "colab": {}
      },
      "source": [
        "asuhwuidj = list[i]"
      ],
      "execution_count": 0,
      "outputs": []
    },
    {
      "cell_type": "code",
      "metadata": {
        "id": "Zi6fWE__FqbF",
        "colab_type": "code",
        "colab": {}
      },
      "source": [
        "variavel = 9"
      ],
      "execution_count": 0,
      "outputs": []
    },
    {
      "cell_type": "markdown",
      "metadata": {
        "id": "SR4bwd52AhJ4",
        "colab_type": "text"
      },
      "source": [
        "#### Aaaah, tá"
      ]
    },
    {
      "cell_type": "code",
      "metadata": {
        "id": "jhY9ATg-AieM",
        "colab_type": "code",
        "colab": {}
      },
      "source": [
        "nome_do_usuario = lista_de_usuarios[i]"
      ],
      "execution_count": 0,
      "outputs": []
    },
    {
      "cell_type": "code",
      "metadata": {
        "id": "vLYxWREIFuEu",
        "colab_type": "code",
        "colab": {}
      },
      "source": [
        "aux = 9"
      ],
      "execution_count": 0,
      "outputs": []
    },
    {
      "cell_type": "markdown",
      "metadata": {
        "id": "ZcrJOZP_Aww2",
        "colab_type": "text"
      },
      "source": [
        "## COMENTARIOS EM MULTIPLAS STRINGS\n",
        "### 1 - Envolve-los em duas aspas triplas \"\"\" - \"\"\"\n"
      ]
    },
    {
      "cell_type": "code",
      "metadata": {
        "id": "9n3ON2vdA6M2",
        "colab_type": "code",
        "colab": {}
      },
      "source": [
        "\"\"\"\n",
        "Este é um comentário em multiplas\n",
        "strings, ta vendo, é bem grande\n",
        "deve ser quebrado em várias linhas\n",
        "como os comentários grandes de \"#\",\n",
        "mas este aqui é usado mais pra documentação\n",
        "de módulos, funções, classes, etc\n",
        "\"\"\""
      ],
      "execution_count": 0,
      "outputs": []
    },
    {
      "cell_type": "markdown",
      "metadata": {
        "id": "GVOT3a9xBY7r",
        "colab_type": "text"
      },
      "source": [
        "### 2 - Devem estar presentes em todos os módulos, funções, classes e métodos.\n",
        "\n",
        " "
      ]
    },
    {
      "cell_type": "code",
      "metadata": {
        "id": "jaJSTBiGDILl",
        "colab_type": "code",
        "colab": {}
      },
      "source": [
        "\"\"\"\n",
        "A classe nave possui todos os parâmetros controláveis\n",
        "da nave (física) pelo software.\n",
        "Seu instanciamento permite o controle dos objetos da\n",
        "nave (motores, poltronas, quadro de avisos).\n",
        "\"\"\"\n",
        "class nave:\n",
        "  def __init__(self, name, age):\n",
        "    self.name = \"BR_interpraize\"\n",
        "    self.captain_name = \"Izaqui Asimove\"\n",
        "    self.motor_de_dobra_direito = motor()\n",
        "    self.motor_de_dobra_esquerdo = motor()\n",
        "    self.poltronas = poltronas()\n",
        "    self.quadro_de_aviso = quadro_de_aviso()"
      ],
      "execution_count": 0,
      "outputs": []
    },
    {
      "cell_type": "code",
      "metadata": {
        "id": "kPVwmDs3Bc9b",
        "colab_type": "code",
        "colab": {}
      },
      "source": [
        "\"\"\"\n",
        "Essa função ativa a dobra espacial da nave.\n",
        "O procedimento acontece primeiramente fechando \n",
        "todas as cabines da nave. Emitindo um aviso luminoso\n",
        "para a tripulação e automáticamente apertando os cintos\n",
        "no modo especial de segunrança em gravidade 0.\n",
        "Depois dos procedimentos de seguração os motores positrônicos\n",
        "são ativados e se inicia a dobra espacial.\n",
        "\"\"\"\n",
        "def ativar_dobra_espacial():\n",
        "  \n",
        "  nave.cabines.fechar()\n",
        "  nave.quadro_de_aviso.acender_aviso_de_dobra()\n",
        "  nave.poltronas.apertar_cintos()\n",
        "  nave.motor_de_dobra_direito.ativar()\n",
        "  nave.motor_de_dobra_esquerdo.ativar()"
      ],
      "execution_count": 0,
      "outputs": []
    },
    {
      "cell_type": "markdown",
      "metadata": {
        "id": "6bEc2UBZCsk7",
        "colab_type": "text"
      },
      "source": [
        "### 3 - O \"\"\" final deve estar isolado em uma única linha."
      ]
    },
    {
      "cell_type": "code",
      "metadata": {
        "id": "aqoV6haACuKs",
        "colab_type": "code",
        "colab": {}
      },
      "source": [
        "\"\"\"\n",
        "Não\"\"\""
      ],
      "execution_count": 0,
      "outputs": []
    },
    {
      "cell_type": "code",
      "metadata": {
        "id": "aML9XLBSC3RM",
        "colab_type": "code",
        "colab": {}
      },
      "source": [
        "\"\"\"\n",
        "Sim.\n",
        "\"\"\""
      ],
      "execution_count": 0,
      "outputs": []
    },
    {
      "cell_type": "code",
      "metadata": {
        "id": "jjQYjIj7C6C1",
        "colab_type": "code",
        "colab": {}
      },
      "source": [
        "\"\"\"\n",
        "Esse foi moleza, né?\n",
        "\"\"\""
      ],
      "execution_count": 0,
      "outputs": []
    },
    {
      "cell_type": "markdown",
      "metadata": {
        "id": "cHTtqKWvFf0u",
        "colab_type": "text"
      },
      "source": [
        "# EXTRAAAAS\n",
        "\n",
        "## Não use comentários pra xingar o professor (testar se ele viu mesmo todo o código da sua equipe)"
      ]
    },
    {
      "cell_type": "code",
      "metadata": {
        "id": "kcQJzHbgFz5H",
        "colab_type": "code",
        "colab": {}
      },
      "source": [
        "\"\"\"\n",
        "Classe blablavaitomarnocucadeirachatadocaralhoSoqueropassarNessaMerda\n",
        "Esta classe possui métodos auxiliares para as transações cu realizadas\n",
        "pelo banco fodase de modo a dar um controle melhor selasca no projeto.\n",
        "\"\"\""
      ],
      "execution_count": 0,
      "outputs": []
    },
    {
      "cell_type": "markdown",
      "metadata": {
        "id": "xqtGTTCeHAxK",
        "colab_type": "text"
      },
      "source": [
        "#### Aluno A: Rapaz, tu acha que o professor olhou o código todo?\n",
        "#### Aluno B: Eu acho que não....\n",
        "\n",
        "##### Código do aluno B:"
      ]
    },
    {
      "cell_type": "code",
      "metadata": {
        "id": "MFPTUrrdHfP6",
        "colab_type": "code",
        "colab": {}
      },
      "source": [
        "def funcao_fodade(variavei_seila, matrix_lixo):\n",
        "  outra_matriz = calcula_a_merda_da_matrix(variavel_seila, 42)\n",
        "  qualquercoisa = []\n",
        "  \n",
        "  qualquercoisa = pega_as_merda_dosnegocio_e_botanalista()\n",
        "  \n",
        "  for i in qualquercoisa:\n",
        "    mostra_essaBosta(i)"
      ],
      "execution_count": 0,
      "outputs": []
    }
  ]
}